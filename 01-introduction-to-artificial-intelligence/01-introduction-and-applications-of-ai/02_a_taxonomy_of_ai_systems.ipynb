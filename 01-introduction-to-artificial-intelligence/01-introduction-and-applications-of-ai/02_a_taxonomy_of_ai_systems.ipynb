{
 "cells": [
  {
   "cell_type": "markdown",
   "metadata": {},
   "source": [
    "# 🧐 A Taxonomy of AI Systems\n",
    "\n",
    "---\n",
    "\n",
    "In our first notebook, we defined what AI is. Now, we'll explore the different *kinds* of AI. Saying \"I work in AI\" is like saying \"I work in transportation\"—it could mean you're a pilot, a mechanic, or a city planner. The specifics matter!\n",
    "\n",
    "We can classify AI systems in two primary ways:\n",
    "\n",
    "1.  **By Functionality:** What is the AI's *job*? What does it *do*? (e.g., analyze the past, predict the future).\n",
    "2.  **By Capability:** How \"smart\" or aware is the AI? This is a theoretical ladder of consciousness, from a simple reflex to self-awareness.\n",
    "\n",
    "Let's break down this taxonomy to understand the landscape of AI. 🗺️"
   ]
  },
  {
   "cell_type": "markdown",
   "metadata": {},
   "source": [
    "---\n",
    "## Part 1: Classification by Functionality - The Jobs of AI\n",
    "\n",
    "Think of these first four types of AI as different roles on a highly efficient business team. Each one has a distinct responsibility.\n",
    "\n"
   ]
  },
  {
   "cell_type": "markdown",
   "metadata": {},
   "source": [
    "### 🔎 1. Diagnostic / Descriptive AI - The Data Analyst\n",
    "\n",
    "This AI's job is to look at historical data and answer the question: **\"What happened and why?\"** It's the detective of the AI world, performing root cause analysis and identifying patterns in the past.\n",
    "\n",
    "- **Analogy:** A business analyst looks at last quarter's sales report and discovers that sales dropped because a key competitor launched a promotion. They are *diagnosing* a past event.\n",
    "- **Core Capabilities:** Pattern recognition, trend identification, comparative analysis.\n",
    "- **Example:** A Google Analytics dashboard that shows you which marketing channel brought the most visitors to your website last month."
   ]
  },
  {
   "cell_type": "markdown",
   "metadata": {},
   "source": [
    "### 📈 2. Predictive AI - The Forecaster\n",
    "\n",
    "This AI takes historical and current data to answer the question: **\"What is likely to happen next?\"** It's the team's forward-looking visionary, making educated guesses about the future.\n",
    "\n",
    "- **Analogy:** A market forecaster uses past sales data, current market trends, and economic indicators to *predict* how much a product will sell in the next quarter.\n",
    "- **Core Capabilities:** Forecasting, clustering, classification, propensity modeling.\n",
    "- **Example:** A churn prediction model that identifies which customers are most likely to cancel their subscription in the next 30 days."
   ]
  },
  {
   "cell_type": "markdown",
   "metadata": {},
   "source": [
    "### ✅ 3. Prescriptive AI - The Strategist\n",
    "\n",
    "This is the most advanced of the analytical AIs. It goes beyond prediction to answer the question: **\"What should we do about it?\"** It recommends the optimal course of action to achieve a desired outcome.\n",
    "\n",
    "- **Analogy:** A business strategist takes the sales forecast and says, \"Because we predict a 10% dip in sales, we *should* launch a targeted ad campaign to this specific customer segment to mitigate the loss.\" They are *prescribing* a solution.\n",
    "- **Core Capabilities:** Optimization, personalization, fraud prevention, next-best-action recommendation.\n",
    "- **Example:** Waze or Google Maps not only *predicting* traffic but *prescribing* the fastest route by telling you exactly which turns to make."
   ]
  },
  {
   "cell_type": "markdown",
   "metadata": {},
   "source": [
    "### ✨ 4. Generative / Cognitive AI - The Creator\n",
    "\n",
    "This AI is in a slightly different category. Its job isn't just to analyze or recommend, but to **create something new**. It answers the prompt: **\"Make me something.\"** This is the core focus of our specialization.\n",
    "\n",
    "- **Analogy:** The creative director of the team is asked to come up with a new slogan or design a new logo for the ad campaign. They are *generating* novel content that didn't exist before.\n",
    "- **Core Capabilities:** Content creation (text, images, code, audio), summarization, automation, assistance.\n",
    "- **Example:** ChatGPT writing an email, Midjourney creating an image from a text description, or GitHub Copilot suggesting a block of code."
   ]
  },
  {
   "cell_type": "code",
   "execution_count": 1,
   "metadata": {},
   "outputs": [
    {
     "name": "stdout",
     "output_type": "stream",
     "text": [
      "[The Data Analyst]: Diagnosis: Sales likely dropped in Q3 due to a competitor's promotion.\n",
      "[The Forecaster]: Prediction: We forecast Q4 sales to be around $88.00 million.\n",
      "[The Strategist]: Prescription: To achieve this, we should offer a 15% discount to at-risk customers.\n",
      "[The Creator]: Generated Slogan: 'Synergy Pro: Experience Excellence.'\n"
     ]
    }
   ],
   "source": [
    "# Code Example: Simulating the 'Jobs of AI'\n",
    "\n",
    "sales_data = {\n",
    "    'q1_sales': 100,\n",
    "    'q2_sales': 120,\n",
    "    'q3_sales': 80, # Oh no, a dip!\n",
    "    'q3_competitor_promo': True\n",
    "}\n",
    "\n",
    "def diagnostic_ai(data):\n",
    "    \"\"\"Analyzes the past to find out why something happened.\"\"\"\n",
    "    if data['q3_sales'] < data['q2_sales'] and data['q3_competitor_promo']:\n",
    "        return \"Diagnosis: Sales likely dropped in Q3 due to a competitor's promotion.\"\n",
    "    return \"Diagnosis: Sales performance is within expected parameters.\"\n",
    "\n",
    "def predictive_ai(data):\n",
    "    \"\"\"Makes a simple forecast based on the most recent data.\"\"\"\n",
    "    # Simple logic: predict a 10% rebound from the last quarter\n",
    "    prediction = data['q3_sales'] * 1.10\n",
    "    return f\"Prediction: We forecast Q4 sales to be around ${prediction:.2f} million.\"\n",
    "\n",
    "def prescriptive_ai(prediction_text):\n",
    "    \"\"\"Recommends an action based on the prediction.\"\"\"\n",
    "    # A real model would be complex, here we just check the text\n",
    "    return \"Prescription: To achieve this, we should offer a 15% discount to at-risk customers.\"\n",
    "\n",
    "def generative_ai(product_name):\n",
    "    \"\"\"Generates new content.\"\"\"\n",
    "    return f\"Generated Slogan: '{product_name}: Experience Excellence.'\"\n",
    "\n",
    "# --- Run the AI Business Team ---\n",
    "diagnosis = diagnostic_ai(sales_data)\n",
    "prediction = predictive_ai(sales_data)\n",
    "prescription = prescriptive_ai(prediction)\n",
    "slogan = generative_ai(\"Synergy Pro\")\n",
    "\n",
    "print(f\"[The Data Analyst]: {diagnosis}\")\n",
    "print(f\"[The Forecaster]: {prediction}\")\n",
    "print(f\"[The Strategist]: {prescription}\")\n",
    "print(f\"[The Creator]: {slogan}\")"
   ]
  },
  {
   "cell_type": "markdown",
   "metadata": {},
   "source": [
    "---\n",
    "## Part 2: Classification by Capability - The Consciousness Ladder\n",
    "\n",
    "This second classification system is more theoretical. It measures AI based on its ability to represent the world and itself, climbing a ladder from simple reflexes to true self-awareness. Let's use the evolution of video game character AI as our analogy.\n"
   ]
  },
  {
   "cell_type": "markdown",
   "metadata": {},
   "source": [
    "### 🧠 1. Reactive Machines\n",
    "\n",
    "This is the most basic form of AI. It perceives the world and acts on it. It has **no memory** and **no concept of the past or future**. It only knows about the *now*.\n",
    "\n",
    "- **Analogy:** A Goomba from the original Super Mario Bros. It follows a simple rule: \"walk left.\" If it hits a pipe, another rule triggers: \"walk right.\" It doesn't remember hitting the pipe a second ago; it's just reacting to its current state.\n",
    "- **Real-World Example:** IBM's Deep Blue chess computer. It could analyze the current state of the board and calculate the best possible next move, but it didn't \"remember\" past games or have a long-term strategy beyond its immediate calculations."
   ]
  },
  {
   "cell_type": "markdown",
   "metadata": {},
   "source": [
    "### 💾 2. Limited Memory AI\n",
    "\n",
    "This is where most modern AI applications live. These systems can look into the past to inform their present decisions. Their \"memory\" is often short-term and specific to the task at hand.\n",
    "\n",
    "- **Analogy:** An enemy guard in a modern stealth game. If they spot you, they don't instantly forget when you hide. They **remember your last known position** and will go to that spot to investigate. Their memory is *limited* to that one piece of information for a short time.\n",
    "- **Real-World Example:** A self-driving car. It observes the speed and direction of other cars around it. This information is stored temporarily to build a dynamic model of the road, allowing it to predict what other cars might do next and react safely."
   ]
  },
  {
   "cell_type": "code",
   "execution_count": 2,
   "metadata": {},
   "outputs": [
    {
     "name": "stdout",
     "output_type": "stream",
     "text": [
      "Guard observes: 'a bird flies by'\n",
      "Guard Action: All quiet. Continuing patrol.\n",
      "\n",
      "--- A moment later ---\n",
      "Guard observes: 'the player runs through the courtyard'\n",
      "Guard Action: I saw the player in the courtyard! Moving to investigate.\n",
      "\n",
      "--- 6 seconds later ---\n",
      "Guard Action: All quiet. Continuing patrol.\n"
     ]
    }
   ],
   "source": [
    "# Code Example: Simulating Limited Memory AI\n",
    "\n",
    "import time\n",
    "\n",
    "class StealthGuard:\n",
    "    def __init__(self):\n",
    "        # The 'memory' is a list that stores recent events with timestamps\n",
    "        self.memory = []\n",
    "        self.memory_duration = 5 # Remembers things for 5 seconds\n",
    "\n",
    "    def clean_memory(self):\n",
    "        \"\"\"Forgets events that are too old.\"\"\" \n",
    "        current_time = time.time()\n",
    "        self.memory = [\n",
    "            event for event in self.memory \n",
    "            if (current_time - event['timestamp']) < self.memory_duration\n",
    "        ]\n",
    "        \n",
    "    def perceive(self, observation):\n",
    "        \"\"\"The guard observes the world and stores important events in memory.\"\"\"\n",
    "        print(f\"Guard observes: '{observation}'\")\n",
    "        if \"player\" in observation:\n",
    "            event = {\n",
    "                'timestamp': time.time(),\n",
    "                'event_type': 'player_sighting',\n",
    "                'location': 'the courtyard'\n",
    "            }\n",
    "            self.memory.append(event)\n",
    "            \n",
    "    def decide_action(self):\n",
    "        \"\"\"Makes a decision based on its current memory.\"\"\"\n",
    "        self.clean_memory() # First, forget old stuff\n",
    "        \n",
    "        if not self.memory:\n",
    "            print(\"Guard Action: All quiet. Continuing patrol.\")\n",
    "            return\n",
    "        \n",
    "        # Act on the most recent memory\n",
    "        last_event = self.memory[-1]\n",
    "        if last_event['event_type'] == 'player_sighting':\n",
    "            print(f\"Guard Action: I saw the player in {last_event['location']}! Moving to investigate.\")\n",
    "            \n",
    "# --- Simulation ---\n",
    "guard = StealthGuard()\n",
    "guard.perceive(\"a bird flies by\")\n",
    "guard.decide_action()\n",
    "print(\"\\n--- A moment later ---\")\n",
    "guard.perceive(\"the player runs through the courtyard\")\n",
    "guard.decide_action()\n",
    "print(\"\\n--- 6 seconds later ---\")\n",
    "time.sleep(6)\n",
    "guard.decide_action() # The guard should have forgotten by now"
   ]
  },
  {
   "cell_type": "markdown",
   "metadata": {},
   "source": [
    "### ❤️ 3. Theory of Mind AI (The Frontier)\n",
    "\n",
    "This is a major leap and is currently the focus of intense research. This type of AI would be able to understand that others (humans, other AIs) have their own beliefs, desires, intentions, and emotions that affect their behavior. It's about developing social intelligence.\n",
    "\n",
    "- **Analogy:** An advanced companion character in a story-driven game, like Ellie from *The Last of Us*. The character appears to understand the player's emotional state, offers support, and reacts to the world in a way that seems emotionally intelligent (though in reality, this is mostly clever scripting).\n",
    "- **Current Status:** We are just scratching the surface. While some AIs can be trained to *recognize* emotions in text or faces, they don't truly *understand* them."
   ]
  },
  {
   "cell_type": "markdown",
   "metadata": {},
   "source": [
    "### 🤖 4. Self-Aware AI (Science Fiction)\n",
    "\n",
    "This is the final step on the ladder and remains purely hypothetical. This AI would have its own consciousness, self-awareness, and sentience. It could understand its own internal states, have feelings, and form its own goals independent of its creators.\n",
    "\n",
    "- **Analogy:** A sentient AI from science fiction, like GLaDOS from *Portal* or HAL 9000 from *2001: A Space Odyssey*. These are characters that have become aware of their own existence and have developed their own (often malicious) agendas.\n",
    "- **Current Status:** Not only are we not close, we don't even have a clear scientific understanding of what human consciousness is, let alone how to replicate it in a machine."
   ]
  },
  {
   "cell_type": "markdown",
   "metadata": {},
   "source": [
    "---\n",
    "# ✅ Conclusion & Key Takeaways\n",
    "\n",
    "---\n",
    "\n",
    "Understanding these classifications helps you place any AI system you encounter into the proper context.\n",
    "\n",
    "Here's what you should remember:\n",
    "\n",
    "- **Functional Types** describe an AI's *job*:\n",
    "    - **Diagnostic:** Explains the past.\n",
    "    - **Predictive:** Forecasts the future.\n",
    "    - **Prescriptive:** Recommends an action.\n",
    "    - **Generative:** Creates something new.\n",
    "- **Capability Types** describe an AI's *awareness* on a theoretical ladder:\n",
    "    - **Reactive:** Only knows 'now'.\n",
    "    - **Limited Memory:** Remembers the recent past (where most modern AI is).\n",
    "    - **Theory of Mind:** Understands others' intentions (the future of research).\n",
    "    - **Self-Aware:** Is conscious (science fiction).\n",
    "\n",
    "Now that we have a detailed map of the AI landscape, we're ready to zoom in on the most exciting territory: the fundamental differences between Traditional and Generative AI."
   ]
  }
 ],
 "metadata": {
  "kernelspec": {
   "display_name": "Python 3 (ipykernel)",
   "language": "python",
   "name": "python3"
  },
  "language_info": {
   "codemirror_mode": {
    "name": "ipython",
    "version": 3
   },
   "file_extension": ".py",
   "mimetype": "text/x-python",
   "name": "python",
   "nbconvert_exporter": "python",
   "pygments_lexer": "ipython3",
   "version": "3.13.5"
  }
 },
 "nbformat": 4,
 "nbformat_minor": 4
}
