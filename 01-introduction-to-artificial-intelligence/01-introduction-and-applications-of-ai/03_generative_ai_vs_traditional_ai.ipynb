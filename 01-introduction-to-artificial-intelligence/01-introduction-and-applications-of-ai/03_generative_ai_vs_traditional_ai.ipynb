{
 "cells": [
  {
   "cell_type": "markdown",
   "metadata": {},
   "source": [
    "# 🧑‍🍳 Generative AI vs. Traditional AI\n",
    "\n",
    "---\n",
    "\n",
    "Welcome to one of the most important conceptual notebooks in this series. We've defined AI and categorized its different types. Now, we'll dissect the massive paradigm shift that separates the AI of the last 30 years from the generative AI that's making headlines today.\n",
    "\n",
    "To understand this, let's use an analogy: **The Tale of Two Chefs**.\n",
    "\n",
    "👨‍🍳 **The Traditional AI Chef** is a master of a specific cuisine. You give them a set of ingredients, and they use their expert training and established recipes to **predict** the best possible dish they can make for you.\n",
    "\n",
    "👩‍🍳 **The Generative AI Chef** has read every cookbook and food blog in the world. You don't give them ingredients; you give them a creative idea, like \"a dish that tastes like a cozy autumn evening.\" They then use their vast knowledge to **create** a brand-new, unique recipe from scratch.\n",
    "\n",
    "This notebook will explore the different kitchens, tools, and philosophies of these two chefs. Let's begin. 🔪"
   ]
  },
  {
   "cell_type": "markdown",
   "metadata": {},
   "source": [
    "--\n",
    "## Part 1: The Traditional AI Workflow (The Master Chef)\n",
    "\n",
    "Traditional AI, which includes most of what we've called Machine Learning (ML) for decades, is fundamentally about **prediction and classification**. It learns patterns from a specific, curated dataset to make judgments on new data.\n",
    "\n",
    "The architecture is a closed loop, typically operating within an organization's own systems.\n",
    "\n",
    "### The Four Key Steps:\n",
    "\n",
    "1.  **📦 The Repository:** This is the chef's pantry. It's a well-organized collection of an organization's own historical data—customer records, sales figures, machine sensor readings. The data is usually structured and specific.\n",
    "\n",
    "2.  **⚙️ The Analytics Platform:** This is the chef's training and recipe book (e.g., tools like Scikit-learn, SPSS, Watson Studio). Here, a data scientist takes the data from the repository and builds a predictive model. They are teaching the chef a specific recipe, like \"how to identify a customer who is likely to churn.\"\n",
    "\n",
    "3.  **🍽️ The Application:** This is where the dish is served. The trained model is deployed into a live system. For example, a marketing application might use the churn model to automatically flag at-risk customers.\n",
    "\n",
    "4.  **🔄 The Feedback Loop:** This is crucial. The chef learns from your reaction. The application monitors whether the predictions were correct (did the flagged customer actually churn?). This new data is fed back into the repository to make the model even better over time. It's how the AI learns from its successes and mistakes."
   ]
  },
  {
   "cell_type": "markdown",
   "metadata": {},
   "source": [
    "### Traditional AI Flowchart\n",
    "\n",
    "```\n",
    "(Your Company's Data)      (Build & Train)         (Make Predictions) \n",
    "     [📦 Repository]  --->  [⚙️ Analytics Platform]  --->  [🍽️ Application]\n",
    "            ^                     (ML Model)                     |\n",
    "            |                                                    |\n",
    "            +--------------------[🔄 Feedback]--------------------+\n",
    "                       (Were the predictions correct?)\n",
    "```"
   ]
  },
  {
   "cell_type": "code",
   "execution_count": 5,
   "metadata": {},
   "outputs": [
    {
     "name": "stdout",
     "output_type": "stream",
     "text": [
      "Requirement already satisfied: scikit-learn in c:\\users\\fahad shah\\appdata\\local\\programs\\python\\python313\\lib\\site-packages (1.7.2)\n",
      "Requirement already satisfied: numpy>=1.22.0 in c:\\users\\fahad shah\\appdata\\local\\programs\\python\\python313\\lib\\site-packages (from scikit-learn) (2.3.2)\n",
      "Requirement already satisfied: scipy>=1.8.0 in c:\\users\\fahad shah\\appdata\\local\\programs\\python\\python313\\lib\\site-packages (from scikit-learn) (1.16.2)\n",
      "Requirement already satisfied: joblib>=1.2.0 in c:\\users\\fahad shah\\appdata\\local\\programs\\python\\python313\\lib\\site-packages (from scikit-learn) (1.5.2)\n",
      "Requirement already satisfied: threadpoolctl>=3.1.0 in c:\\users\\fahad shah\\appdata\\local\\programs\\python\\python313\\lib\\site-packages (from scikit-learn) (3.6.0)\n"
     ]
    }
   ],
   "source": [
    "!pip install scikit-learn"
   ]
  },
  {
   "cell_type": "code",
   "execution_count": 4,
   "metadata": {},
   "outputs": [
    {
     "name": "stdout",
     "output_type": "stream",
     "text": [
      "Training the 'Master Chef' model...\n",
      "Model training complete!\n",
      "\n",
      "Prediction for a 165g smooth fruit: It's an Apple!\n",
      "Prediction for a 125g bumpy fruit: It's a Lemon!\n"
     ]
    }
   ],
   "source": [
    "# Code Example: A Simple Traditional AI (Predictive Model)\n",
    "# We'll use the famous Scikit-learn library to train a model that predicts\n",
    "# whether a fruit is an apple or a lemon based on its weight and texture.\n",
    "\n",
    "from sklearn.tree import DecisionTreeClassifier\n",
    "\n",
    "# 1. The Repository (our specific, structured data)\n",
    "# Texture: 0 for Bumpy, 1 for Smooth\n",
    "# Label: 0 for Apple, 1 for Lemon\n",
    "features = [[150, 1], [170, 1], [130, 0], [140, 0]] # [weight, texture]\n",
    "labels = [0, 0, 1, 1] # Apple, Apple, Lemon, Lemon\n",
    "\n",
    "# 2. The Analytics Platform (we train a Decision Tree model)\n",
    "print(\"Training the 'Master Chef' model...\")\n",
    "model = DecisionTreeClassifier()\n",
    "model.fit(features, labels)\n",
    "print(\"Model training complete!\")\n",
    "    \n",
    "# 3. The Application (we use the model to make a prediction)\n",
    "unknown_fruit_1 = [[165, 1]] # A heavy, smooth fruit\n",
    "unknown_fruit_2 = [[125, 0]] # A light, bumpy fruit\n",
    "\n",
    "prediction_1 = model.predict(unknown_fruit_1)\n",
    "prediction_2 = model.predict(unknown_fruit_2)\n",
    "\n",
    "def get_fruit_name(label):\n",
    "    return \"Apple\" if label == 0 else \"Lemon\"\n",
    "\n",
    "print(f\"\\nPrediction for a 165g smooth fruit: It's an {get_fruit_name(prediction_1[0])}!\")\n",
    "print(f\"Prediction for a 125g bumpy fruit: It's a {get_fruit_name(prediction_2[0])}!\")\n",
    "\n",
    "# 4. The Feedback Loop (not coded) would involve confirming if these predictions\n",
    "# were correct and adding the results back to our 'features' and 'labels' lists."
   ]
  },
  {
   "cell_type": "markdown",
   "metadata": {},
   "source": [
    "---\n",
    "## Part 2: The Generative AI Workflow (The Infinite Chef)\n",
    "\n",
    "Generative AI is fundamentally different. Its goal is **creation and synthesis**. It doesn't learn from a small, private dataset; it learns from a massive, public one. It generates new content rather than predicting a label for existing data.\n",
    "\n",
    "The architecture is open and built on a new kind of foundation model.\n",
    "\n",
    "### The Four Key Layers:\n",
    "\n",
    "1.  **🌍 Massive Public Data:** This is the chef's library: the entire internet, books, articles, code repositories. It's petabytes of largely unstructured data about everything, not just one company's sales.\n",
    "\n",
    "2.  **🧠 Large Language Models (LLMs):** This is the chef's brain. An LLM (like GPT, PaLM, or Llama) is a massive neural network trained on the public data. It's not a specific recipe book; it's a deep, intuitive understanding of the *principles* of language, reasoning, and structure. These are often called **Foundation Models** because they are the base upon which specific applications are built.\n",
    "\n",
    "3.  **✍️ Prompting & Tuning:** This is how you talk to the chef. You don't give it a recipe; you give it a **prompt**. A prompt is a natural language instruction telling the AI what you want. \"*Write a poem about robots in the style of Shakespeare.*\" Tuning (or fine-tuning) is a more advanced process where you provide the general-purpose LLM with specific examples to make it an expert in *your* particular domain (e.g., medical or legal language).\n",
    "\n",
    "4.  **💡 The Application:** This is where the new creation is presented. It could be a chatbot interface (ChatGPT), an image generator (Midjourney), or a code assistant (GitHub Copilot). It's the interface that delivers the generated content to the user.\n",
    "\n",
    "The feedback loop is different here, too. It's often about the user refining their prompt or developers using user feedback to fine-tune the model further."
   ]
  },
  {
   "cell_type": "markdown",
   "metadata": {},
   "source": [
    "### Generative AI Flowchart\n",
    "\n",
    "```\n",
    "(The Internet, Books, etc.)      (Understands Language & Concepts)\n",
    " [🌍 Massive Public Data]  --->  [🧠 Large Language Model (LLM)]\n",
    "                                               ^\n",
    "                                               |\n",
    "      (User's Natural Language Request)        |\n",
    "         [✍️ Prompting & Tuning] --------------+\n",
    "          |\n",
    "          v\n",
    " [💡 Generative Application]\n",
    "   (New Content is Created)\n",
    "```"
   ]
  },
  {
   "cell_type": "code",
   "execution_count": 6,
   "metadata": {},
   "outputs": [
    {
     "name": "stdout",
     "output_type": "stream",
     "text": [
      "[User Prompt]: Can you create a short poem about robots?\n",
      "[Generated Response]:\n",
      "My circuits hum, a logic cold and deep,\n",
      "While humans dream, I have no need for sleep.\n",
      "\n",
      "[User Prompt]: Give me a marketing slogan for coffee.\n",
      "[Generated Response]: Sunrise in a Cup.\n",
      "\n",
      "[User Prompt]: Write me the python code for hello world\n",
      "[Generated Response]:\n",
      "```python\n",
      "print('Hello, World!')\n",
      "```\n"
     ]
    }
   ],
   "source": [
    "# Code Example: Simulating a Generative AI Interaction\n",
    "# We can't build a real LLM here, but we can simulate the 'prompt-and-response'\n",
    "# nature of interacting with one.\n",
    "\n",
    "class SimulatedGenerativeAI:\n",
    "    \"\"\"A mock class to demonstrate how a Generative AI responds to prompts.\"\"\"\n",
    "    def __init__(self):\n",
    "        # This simulates the LLM's vast, pre-trained knowledge\n",
    "        self.knowledge = {\n",
    "            \"poem about robots\": \"My circuits hum, a logic cold and deep,\\nWhile humans dream, I have no need for sleep.\",\n",
    "            \"marketing slogan for coffee\": \"Sunrise in a Cup.\",\n",
    "            \"python code for hello world\": \"print('Hello, World!')\"\n",
    "        }\n",
    "\n",
    "    def generate_response(self, prompt):\n",
    "        \"\"\"The AI application takes a prompt and generates a creative response.\"\"\"\n",
    "        prompt = prompt.lower()\n",
    "        # A real LLM uses complex logic; we'll use simple keyword matching\n",
    "        for key, value in self.knowledge.items():\n",
    "            if key in prompt:\n",
    "                return value\n",
    "        return \"I'm sorry, I don't have a pre-generated response for that creative prompt.\"\n",
    "\n",
    "# 3. The Prompting Layer\n",
    "prompt1 = \"Can you create a short poem about robots?\"\n",
    "prompt2 = \"Give me a marketing slogan for coffee.\"\n",
    "prompt3 = \"Write me the python code for hello world\"\n",
    "\n",
    "# 4. The Application (using our simulated AI)\n",
    "generative_chef = SimulatedGenerativeAI()\n",
    "\n",
    "print(f\"[User Prompt]: {prompt1}\")\n",
    "print(f\"[Generated Response]:\\n{generative_chef.generate_response(prompt1)}\\n\")\n",
    "\n",
    "print(f\"[User Prompt]: {prompt2}\")\n",
    "print(f\"[Generated Response]: {generative_chef.generate_response(prompt2)}\\n\")\n",
    "\n",
    "print(f\"[User Prompt]: {prompt3}\")\n",
    "print(f\"[Generated Response]:\\n```python\\n{generative_chef.generate_response(prompt3)}\\n```\")"
   ]
  },
  {
   "cell_type": "markdown",
   "metadata": {},
   "source": [
    "---\n",
    "## Head-to-Head: The Key Differences\n",
    "\n",
    "Let's put our two chefs side-by-side in a final comparison.\n",
    "\n",
    "| Feature | 👨‍🍳 Traditional AI (The Master Chef) | 👩‍🍳 Generative AI (The Infinite Chef) |\n",
    "| :--- | :--- | :--- |\n",
    "| **Primary Goal** | **Prediction** or **Classification** (What is this? What will happen next?) | **Creation** or **Generation** (Make me something new.) |\n",
    "| **Data Source** | Internal, structured, and labeled data (Gigabytes). | The public internet, books, code; unstructured (Petabytes). |\n",
    "| **Scale** | Models are relatively small, tailored to one task. | Models are enormous (billions of parameters), general-purpose. |\n",
    "| **Core Tech** | Classic Machine Learning algorithms (Decision Trees, Regressions). | **Foundation Models** like Transformers (LLMs). |\n",
    "| **Human's Role** | A **Data Scientist** carefully prepares data and trains the model. | Any **User** writes a natural language prompt to guide the model. |\n",
    "| **Output** | A label, a number, or a category (e.g., `Spam` or `Not Spam`). | New text, images, code, or audio that did not exist before. |"
   ]
  },
  {
   "cell_type": "markdown",
   "metadata": {},
   "source": [
    "---\n",
    "# ✅ Conclusion & Key Takeaways\n",
    "\n",
    "---\n",
    "\n",
    "Understanding this distinction is the key to understanding modern AI. It's not just an incremental improvement; it's a fundamental change in architecture and capability.\n",
    "\n",
    "- **Traditional AI** is like a skilled analyst in a closed system, making predictions based on specific internal data.\n",
    "- **Generative AI** is like a universal creator, synthesizing new content based on a general understanding of the world's information.\n",
    "\n",
    "This new generative paradigm, powered by massive Foundation Models, is what makes the rest of this specialization possible. Now that we know the difference, we can start exploring what these powerful new tools can do in the real world."
   ]
  },
  {
   "cell_type": "code",
   "execution_count": null,
   "metadata": {},
   "outputs": [],
   "source": []
  }
 ],
 "metadata": {
  "kernelspec": {
   "display_name": "Python 3 (ipykernel)",
   "language": "python",
   "name": "python3"
  },
  "language_info": {
   "codemirror_mode": {
    "name": "ipython",
    "version": 3
   },
   "file_extension": ".py",
   "mimetype": "text/x-python",
   "name": "python",
   "nbconvert_exporter": "python",
   "pygments_lexer": "ipython3",
   "version": "3.13.5"
  }
 },
 "nbformat": 4,
 "nbformat_minor": 4
}
